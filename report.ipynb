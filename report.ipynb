{
 "cells": [
  {
   "attachments": {},
   "cell_type": "markdown",
   "metadata": {},
   "source": [
    "# Happiness: A Reflection on a Worldly Subjective Subjective System\n",
    "\n",
    "Caleb Jensen, Undergrad \\\n",
    "Christian Allen, Undergrad \\\n",
    "Jessyca Allen, Undergrad \n",
    "\n",
    "---\n",
    "\n",
    "### Introduction\n",
    "\n",
    "**ADD INTRO HERE**\n",
    "\n",
    "### Data\n",
    "\n",
    "#### World Happiness Reports 2015-2022\n",
    "\n",
    "The World Happiness Report is a global survey conducted in over 150 countries and it is done annually. The report scores each countries happiness based on its citizens' response. The report also contains major contributing factors such as economy, health, and government trust. The structure of the data is as follows:\n",
    "\n",
    "- Country: The country the data is from\n",
    "- Region: The region the country is in, ie Central and Eastern Europe, Sub-Saharan Africa, etc.\n",
    "- Happiness Rank: The rank of the country based on the happiness score\n",
    "- Happiness Score: The happiness score of the country\n",
    "- Standard Error: The standard error of the happiness score\n",
    "- Economy (GDP per Capita): The GDP per capita of the country\n",
    "- Family (Social Support): how much social support the demographic has\n",
    "- Freedom: The freedom score of the country\n",
    "- Generosity: The generosity score of the country\n",
    "- Health (Life Expectancy): The life expectancy of the country\n",
    "- Trust (Government Corruption): The trust score of the country\n",
    "- Dystopia Residual: The dystopia residual score of the country\n",
    "    - Dystopia is a hypothetical country used for a baseline. The lowest values for each category that is found within the dataset is used for the dystopia country.\n",
    "\n",
    "### Goal \n",
    "\n",
    "Our goal in this project is to visualize the data and find any trends that may exist. We will also be finding supplementary data that could help us see any addition causes to a country's happiness score.\n",
    "\n"
   ]
  }
 ],
 "metadata": {
  "kernelspec": {
   "display_name": "base",
   "language": "python",
   "name": "python3"
  },
  "language_info": {
   "codemirror_mode": {
    "name": "ipython",
    "version": 3
   },
   "file_extension": ".py",
   "mimetype": "text/x-python",
   "name": "python",
   "nbconvert_exporter": "python",
   "pygments_lexer": "ipython3",
   "version": "3.9.13"
  },
  "orig_nbformat": 4,
  "vscode": {
   "interpreter": {
    "hash": "e67f7d298a8b60ac3e39886f913f868268b5ed6aba0b98188b346f5b90700fbd"
   }
  }
 },
 "nbformat": 4,
 "nbformat_minor": 2
}
